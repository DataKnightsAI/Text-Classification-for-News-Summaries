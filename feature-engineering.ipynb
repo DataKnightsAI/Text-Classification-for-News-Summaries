{
 "nbformat": 4,
 "nbformat_minor": 2,
 "metadata": {
  "language_info": {
   "name": "python",
   "codemirror_mode": {
    "name": "ipython",
    "version": 3
   },
   "version": "3.7.6-final"
  },
  "orig_nbformat": 2,
  "file_extension": ".py",
  "mimetype": "text/x-python",
  "name": "python",
  "npconvert_exporter": "python",
  "pygments_lexer": "ipython3",
  "version": 3,
  "kernelspec": {
   "name": "python37664bitenv1conda5d7aff6cf43e4682a679506634d57c11",
   "display_name": "Python 3.7.6 64-bit ('env1': conda)"
  }
 },
 "cells": [
  {
   "cell_type": "markdown",
   "metadata": {},
   "source": [
    "## Import necessary dependencies"
   ]
  },
  {
   "cell_type": "code",
   "execution_count": 1,
   "metadata": {},
   "outputs": [],
   "source": [
    "import pandas\n",
    "from matplotlib import pyplot as plt\n",
    "from sklearn.feature_extraction.text import TfidfVectorizer\n",
    "from sklearn.feature_extraction.text import CountVectorizer\n",
    "import numpy\n",
    "from sklearn.feature_selection import chi2\n",
    "from PIL import Image\n",
    "from collections import Counter\n",
    "import re\n",
    "import sqlite3"
   ]
  },
  {
   "cell_type": "markdown",
   "metadata": {},
   "source": [
    "## Load in the data from the database"
   ]
  },
  {
   "cell_type": "code",
   "execution_count": 3,
   "metadata": {},
   "outputs": [],
   "source": [
    "# BELOW DOES NOT WORK YET! FIGURE OUT FIRST BEFORE RUNNING!!!!!!!!!!!!!!!\n",
    "\n",
    "sql = \"\"\"\n",
    "SELECT s.*, h.*\n",
    "FROM train_data_sample s, headline_bagofwords h\n",
    "\"\"\"\n",
    "\n",
    "with sqlite3.connect('newsclassifier.db') as dbconn:\n",
    "    df = pandas.read_sql_query(sql, dbconn)"
   ]
  },
  {
   "cell_type": "markdown",
   "metadata": {},
   "source": [
    "### Check the if the data was loaded correctly"
   ]
  },
  {
   "cell_type": "code",
   "execution_count": null,
   "metadata": {},
   "outputs": [],
   "source": [
    "df.columns"
   ]
  }
 ]
}