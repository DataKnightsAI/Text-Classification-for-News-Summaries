{
 "nbformat": 4,
 "nbformat_minor": 2,
 "metadata": {
  "language_info": {
   "name": "python",
   "codemirror_mode": {
    "name": "ipython",
    "version": 3
   },
   "version": "3.7.6-final"
  },
  "orig_nbformat": 2,
  "file_extension": ".py",
  "mimetype": "text/x-python",
  "name": "python",
  "npconvert_exporter": "python",
  "pygments_lexer": "ipython3",
  "version": 3,
  "kernelspec": {
   "name": "python37664bitenv1conda5d7aff6cf43e4682a679506634d57c11",
   "display_name": "Python 3.7.6 64-bit ('env1': conda)"
  }
 },
 "cells": [
  {
   "cell_type": "markdown",
   "metadata": {},
   "source": [
    "## Import necessary dependencies"
   ]
  },
  {
   "cell_type": "code",
   "execution_count": 1,
   "metadata": {},
   "outputs": [],
   "source": [
    "import pandas\n",
    "from matplotlib import pyplot as plt\n",
    "from sklearn.feature_extraction.text import TfidfVectorizer\n",
    "from sklearn.feature_extraction.text import CountVectorizer\n",
    "import numpy\n",
    "from sklearn.feature_selection import chi2\n",
    "from PIL import Image\n",
    "from collections import Counter\n",
    "import re\n",
    "import sqlite3"
   ]
  },
  {
   "cell_type": "markdown",
   "metadata": {},
   "source": [
    "## Load in the data from the database"
   ]
  },
  {
   "cell_type": "code",
   "execution_count": 3,
   "metadata": {},
   "outputs": [],
   "source": [
    "dbconn = sqlite3.connect('./data/newsclassifier.db')\n",
    "train_data_df = pandas.read_sql_query('SELECT * FROM train_data_sample', dbconn)\n",
    "headline_bagofwords_df = pandas.read_sql_query('SELECT * FROM headline_bagofwords', dbconn)\n",
    "dbconn.commit()\n",
    "dbconn.close()"
   ]
  },
  {
   "cell_type": "markdown",
   "metadata": {},
   "source": [
    "### Check the if the data was loaded correctly"
   ]
  },
  {
   "cell_type": "code",
   "execution_count": 4,
   "metadata": {},
   "outputs": [
    {
     "output_type": "execute_result",
     "data": {
      "text/plain": "   index  category                                         headline  \\\n0  30870         2  NHL on Ice, Maybe for Whole 2004-05 Season (AP)   \n1   7738         2  Rowers to be punished for criticism of teammate   \n2  25351         2                              Changing Directions   \n3  74309         4               Cassini snapshots murky moon Titan   \n4  88347         1                           Farewell Yasser Arafat   \n\n                                             content  \\\n0  AP - No shots, no saves, no goals. The Nationa...   \n1  ROWER Sally Robbins #39;s teammates are expect...   \n2  Over at USA Today -- Slogan: \"All the News Tha...   \n3  The Cassini probe got the first close-up photo...   \n4  GAZA CITY, 12 November 2004 - The world will b...   \n\n                                  headline_cleaned  \\\n0      NHL on Ice, Maybe for Whole 2004-05 Season    \n1  Rowers to be punished for criticism of teammate   \n2                              Changing Directions   \n3               Cassini snapshots murky moon Titan   \n4                           Farewell Yasser Arafat   \n\n                                     content_cleaned  \n0  AP - No shots, no saves, no goals. The  locked...  \n1  ROWER Sally Robbins #39;s teammates are expect...  \n2  Over at  -- Slogan: \"All the News That's Fit t...  \n3  The Cassini probe got the first close-up photo...  \n4  GAZA CITY, 12 November 2004 - The world will b...  ",
      "text/html": "<div>\n<style scoped>\n    .dataframe tbody tr th:only-of-type {\n        vertical-align: middle;\n    }\n\n    .dataframe tbody tr th {\n        vertical-align: top;\n    }\n\n    .dataframe thead th {\n        text-align: right;\n    }\n</style>\n<table border=\"1\" class=\"dataframe\">\n  <thead>\n    <tr style=\"text-align: right;\">\n      <th></th>\n      <th>index</th>\n      <th>category</th>\n      <th>headline</th>\n      <th>content</th>\n      <th>headline_cleaned</th>\n      <th>content_cleaned</th>\n    </tr>\n  </thead>\n  <tbody>\n    <tr>\n      <th>0</th>\n      <td>30870</td>\n      <td>2</td>\n      <td>NHL on Ice, Maybe for Whole 2004-05 Season (AP)</td>\n      <td>AP - No shots, no saves, no goals. The Nationa...</td>\n      <td>NHL on Ice, Maybe for Whole 2004-05 Season</td>\n      <td>AP - No shots, no saves, no goals. The  locked...</td>\n    </tr>\n    <tr>\n      <th>1</th>\n      <td>7738</td>\n      <td>2</td>\n      <td>Rowers to be punished for criticism of teammate</td>\n      <td>ROWER Sally Robbins #39;s teammates are expect...</td>\n      <td>Rowers to be punished for criticism of teammate</td>\n      <td>ROWER Sally Robbins #39;s teammates are expect...</td>\n    </tr>\n    <tr>\n      <th>2</th>\n      <td>25351</td>\n      <td>2</td>\n      <td>Changing Directions</td>\n      <td>Over at USA Today -- Slogan: \"All the News Tha...</td>\n      <td>Changing Directions</td>\n      <td>Over at  -- Slogan: \"All the News That's Fit t...</td>\n    </tr>\n    <tr>\n      <th>3</th>\n      <td>74309</td>\n      <td>4</td>\n      <td>Cassini snapshots murky moon Titan</td>\n      <td>The Cassini probe got the first close-up photo...</td>\n      <td>Cassini snapshots murky moon Titan</td>\n      <td>The Cassini probe got the first close-up photo...</td>\n    </tr>\n    <tr>\n      <th>4</th>\n      <td>88347</td>\n      <td>1</td>\n      <td>Farewell Yasser Arafat</td>\n      <td>GAZA CITY, 12 November 2004 - The world will b...</td>\n      <td>Farewell Yasser Arafat</td>\n      <td>GAZA CITY, 12 November 2004 - The world will b...</td>\n    </tr>\n  </tbody>\n</table>\n</div>"
     },
     "metadata": {},
     "execution_count": 4
    }
   ],
   "source": [
    "train_data_df.head()"
   ]
  },
  {
   "cell_type": "code",
   "execution_count": 5,
   "metadata": {},
   "outputs": [
    {
     "output_type": "execute_result",
     "data": {
      "text/plain": "   index  abuse  acc  accept  add  adds  afghan  afp  africa  african  ...  \\\n0      0      0    0       0    0     0       0    0       0        0  ...   \n1      1      0    0       0    0     0       0    0       0        0  ...   \n2      2      0    0       0    0     0       0    0       0        0  ...   \n3      3      0    0       0    0     0       0    0       0        0  ...   \n4      4      0    0       0    0     0       0    0       0        0  ...   \n\n   xp  yahoo  yankees  year  years  yen  yields  yukos  zero  zurich  \n0   0      0        0     0      0    0       0      0     0       0  \n1   0      0        0     0      0    0       0      0     0       0  \n2   0      0        0     0      0    0       0      0     0       0  \n3   0      0        0     0      0    0       0      0     0       0  \n4   0      0        0     0      0    0       0      0     0       0  \n\n[5 rows x 910 columns]",
      "text/html": "<div>\n<style scoped>\n    .dataframe tbody tr th:only-of-type {\n        vertical-align: middle;\n    }\n\n    .dataframe tbody tr th {\n        vertical-align: top;\n    }\n\n    .dataframe thead th {\n        text-align: right;\n    }\n</style>\n<table border=\"1\" class=\"dataframe\">\n  <thead>\n    <tr style=\"text-align: right;\">\n      <th></th>\n      <th>index</th>\n      <th>abuse</th>\n      <th>acc</th>\n      <th>accept</th>\n      <th>add</th>\n      <th>adds</th>\n      <th>afghan</th>\n      <th>afp</th>\n      <th>africa</th>\n      <th>african</th>\n      <th>...</th>\n      <th>xp</th>\n      <th>yahoo</th>\n      <th>yankees</th>\n      <th>year</th>\n      <th>years</th>\n      <th>yen</th>\n      <th>yields</th>\n      <th>yukos</th>\n      <th>zero</th>\n      <th>zurich</th>\n    </tr>\n  </thead>\n  <tbody>\n    <tr>\n      <th>0</th>\n      <td>0</td>\n      <td>0</td>\n      <td>0</td>\n      <td>0</td>\n      <td>0</td>\n      <td>0</td>\n      <td>0</td>\n      <td>0</td>\n      <td>0</td>\n      <td>0</td>\n      <td>...</td>\n      <td>0</td>\n      <td>0</td>\n      <td>0</td>\n      <td>0</td>\n      <td>0</td>\n      <td>0</td>\n      <td>0</td>\n      <td>0</td>\n      <td>0</td>\n      <td>0</td>\n    </tr>\n    <tr>\n      <th>1</th>\n      <td>1</td>\n      <td>0</td>\n      <td>0</td>\n      <td>0</td>\n      <td>0</td>\n      <td>0</td>\n      <td>0</td>\n      <td>0</td>\n      <td>0</td>\n      <td>0</td>\n      <td>...</td>\n      <td>0</td>\n      <td>0</td>\n      <td>0</td>\n      <td>0</td>\n      <td>0</td>\n      <td>0</td>\n      <td>0</td>\n      <td>0</td>\n      <td>0</td>\n      <td>0</td>\n    </tr>\n    <tr>\n      <th>2</th>\n      <td>2</td>\n      <td>0</td>\n      <td>0</td>\n      <td>0</td>\n      <td>0</td>\n      <td>0</td>\n      <td>0</td>\n      <td>0</td>\n      <td>0</td>\n      <td>0</td>\n      <td>...</td>\n      <td>0</td>\n      <td>0</td>\n      <td>0</td>\n      <td>0</td>\n      <td>0</td>\n      <td>0</td>\n      <td>0</td>\n      <td>0</td>\n      <td>0</td>\n      <td>0</td>\n    </tr>\n    <tr>\n      <th>3</th>\n      <td>3</td>\n      <td>0</td>\n      <td>0</td>\n      <td>0</td>\n      <td>0</td>\n      <td>0</td>\n      <td>0</td>\n      <td>0</td>\n      <td>0</td>\n      <td>0</td>\n      <td>...</td>\n      <td>0</td>\n      <td>0</td>\n      <td>0</td>\n      <td>0</td>\n      <td>0</td>\n      <td>0</td>\n      <td>0</td>\n      <td>0</td>\n      <td>0</td>\n      <td>0</td>\n    </tr>\n    <tr>\n      <th>4</th>\n      <td>4</td>\n      <td>0</td>\n      <td>0</td>\n      <td>0</td>\n      <td>0</td>\n      <td>0</td>\n      <td>0</td>\n      <td>0</td>\n      <td>0</td>\n      <td>0</td>\n      <td>...</td>\n      <td>0</td>\n      <td>0</td>\n      <td>0</td>\n      <td>0</td>\n      <td>0</td>\n      <td>0</td>\n      <td>0</td>\n      <td>0</td>\n      <td>0</td>\n      <td>0</td>\n    </tr>\n  </tbody>\n</table>\n<p>5 rows × 910 columns</p>\n</div>"
     },
     "metadata": {},
     "execution_count": 5
    }
   ],
   "source": [
    "headline_bagofwords_df.head()"
   ]
  },
  {
   "cell_type": "code",
   "execution_count": 6,
   "metadata": {},
   "outputs": [
    {
     "output_type": "execute_result",
     "data": {
      "text/plain": "   category                                         headline  \\\n0         2  NHL on Ice, Maybe for Whole 2004-05 Season (AP)   \n1         2  Rowers to be punished for criticism of teammate   \n2         2                              Changing Directions   \n3         4               Cassini snapshots murky moon Titan   \n4         1                           Farewell Yasser Arafat   \n\n                                             content  \\\n0  AP - No shots, no saves, no goals. The Nationa...   \n1  ROWER Sally Robbins #39;s teammates are expect...   \n2  Over at USA Today -- Slogan: \"All the News Tha...   \n3  The Cassini probe got the first close-up photo...   \n4  GAZA CITY, 12 November 2004 - The world will b...   \n\n                                  headline_cleaned  \\\n0      NHL on Ice, Maybe for Whole 2004-05 Season    \n1  Rowers to be punished for criticism of teammate   \n2                              Changing Directions   \n3               Cassini snapshots murky moon Titan   \n4                           Farewell Yasser Arafat   \n\n                                     content_cleaned  \n0  AP - No shots, no saves, no goals. The  locked...  \n1  ROWER Sally Robbins #39;s teammates are expect...  \n2  Over at  -- Slogan: \"All the News That's Fit t...  \n3  The Cassini probe got the first close-up photo...  \n4  GAZA CITY, 12 November 2004 - The world will b...  ",
      "text/html": "<div>\n<style scoped>\n    .dataframe tbody tr th:only-of-type {\n        vertical-align: middle;\n    }\n\n    .dataframe tbody tr th {\n        vertical-align: top;\n    }\n\n    .dataframe thead th {\n        text-align: right;\n    }\n</style>\n<table border=\"1\" class=\"dataframe\">\n  <thead>\n    <tr style=\"text-align: right;\">\n      <th></th>\n      <th>category</th>\n      <th>headline</th>\n      <th>content</th>\n      <th>headline_cleaned</th>\n      <th>content_cleaned</th>\n    </tr>\n  </thead>\n  <tbody>\n    <tr>\n      <th>0</th>\n      <td>2</td>\n      <td>NHL on Ice, Maybe for Whole 2004-05 Season (AP)</td>\n      <td>AP - No shots, no saves, no goals. The Nationa...</td>\n      <td>NHL on Ice, Maybe for Whole 2004-05 Season</td>\n      <td>AP - No shots, no saves, no goals. The  locked...</td>\n    </tr>\n    <tr>\n      <th>1</th>\n      <td>2</td>\n      <td>Rowers to be punished for criticism of teammate</td>\n      <td>ROWER Sally Robbins #39;s teammates are expect...</td>\n      <td>Rowers to be punished for criticism of teammate</td>\n      <td>ROWER Sally Robbins #39;s teammates are expect...</td>\n    </tr>\n    <tr>\n      <th>2</th>\n      <td>2</td>\n      <td>Changing Directions</td>\n      <td>Over at USA Today -- Slogan: \"All the News Tha...</td>\n      <td>Changing Directions</td>\n      <td>Over at  -- Slogan: \"All the News That's Fit t...</td>\n    </tr>\n    <tr>\n      <th>3</th>\n      <td>4</td>\n      <td>Cassini snapshots murky moon Titan</td>\n      <td>The Cassini probe got the first close-up photo...</td>\n      <td>Cassini snapshots murky moon Titan</td>\n      <td>The Cassini probe got the first close-up photo...</td>\n    </tr>\n    <tr>\n      <th>4</th>\n      <td>1</td>\n      <td>Farewell Yasser Arafat</td>\n      <td>GAZA CITY, 12 November 2004 - The world will b...</td>\n      <td>Farewell Yasser Arafat</td>\n      <td>GAZA CITY, 12 November 2004 - The world will b...</td>\n    </tr>\n  </tbody>\n</table>\n</div>"
     },
     "metadata": {},
     "execution_count": 6
    }
   ],
   "source": [
    "train_data_df.drop('index', axis=1, inplace=True)\n",
    "train_data_df.head()"
   ]
  },
  {
   "cell_type": "code",
   "execution_count": 7,
   "metadata": {},
   "outputs": [
    {
     "output_type": "execute_result",
     "data": {
      "text/plain": "   abuse  acc  accept  add  adds  afghan  afp  africa  african  agree  ...  \\\n0      0    0       0    0     0       0    0       0        0      0  ...   \n1      0    0       0    0     0       0    0       0        0      0  ...   \n2      0    0       0    0     0       0    0       0        0      0  ...   \n3      0    0       0    0     0       0    0       0        0      0  ...   \n4      0    0       0    0     0       0    0       0        0      0  ...   \n\n   xp  yahoo  yankees  year  years  yen  yields  yukos  zero  zurich  \n0   0      0        0     0      0    0       0      0     0       0  \n1   0      0        0     0      0    0       0      0     0       0  \n2   0      0        0     0      0    0       0      0     0       0  \n3   0      0        0     0      0    0       0      0     0       0  \n4   0      0        0     0      0    0       0      0     0       0  \n\n[5 rows x 909 columns]",
      "text/html": "<div>\n<style scoped>\n    .dataframe tbody tr th:only-of-type {\n        vertical-align: middle;\n    }\n\n    .dataframe tbody tr th {\n        vertical-align: top;\n    }\n\n    .dataframe thead th {\n        text-align: right;\n    }\n</style>\n<table border=\"1\" class=\"dataframe\">\n  <thead>\n    <tr style=\"text-align: right;\">\n      <th></th>\n      <th>abuse</th>\n      <th>acc</th>\n      <th>accept</th>\n      <th>add</th>\n      <th>adds</th>\n      <th>afghan</th>\n      <th>afp</th>\n      <th>africa</th>\n      <th>african</th>\n      <th>agree</th>\n      <th>...</th>\n      <th>xp</th>\n      <th>yahoo</th>\n      <th>yankees</th>\n      <th>year</th>\n      <th>years</th>\n      <th>yen</th>\n      <th>yields</th>\n      <th>yukos</th>\n      <th>zero</th>\n      <th>zurich</th>\n    </tr>\n  </thead>\n  <tbody>\n    <tr>\n      <th>0</th>\n      <td>0</td>\n      <td>0</td>\n      <td>0</td>\n      <td>0</td>\n      <td>0</td>\n      <td>0</td>\n      <td>0</td>\n      <td>0</td>\n      <td>0</td>\n      <td>0</td>\n      <td>...</td>\n      <td>0</td>\n      <td>0</td>\n      <td>0</td>\n      <td>0</td>\n      <td>0</td>\n      <td>0</td>\n      <td>0</td>\n      <td>0</td>\n      <td>0</td>\n      <td>0</td>\n    </tr>\n    <tr>\n      <th>1</th>\n      <td>0</td>\n      <td>0</td>\n      <td>0</td>\n      <td>0</td>\n      <td>0</td>\n      <td>0</td>\n      <td>0</td>\n      <td>0</td>\n      <td>0</td>\n      <td>0</td>\n      <td>...</td>\n      <td>0</td>\n      <td>0</td>\n      <td>0</td>\n      <td>0</td>\n      <td>0</td>\n      <td>0</td>\n      <td>0</td>\n      <td>0</td>\n      <td>0</td>\n      <td>0</td>\n    </tr>\n    <tr>\n      <th>2</th>\n      <td>0</td>\n      <td>0</td>\n      <td>0</td>\n      <td>0</td>\n      <td>0</td>\n      <td>0</td>\n      <td>0</td>\n      <td>0</td>\n      <td>0</td>\n      <td>0</td>\n      <td>...</td>\n      <td>0</td>\n      <td>0</td>\n      <td>0</td>\n      <td>0</td>\n      <td>0</td>\n      <td>0</td>\n      <td>0</td>\n      <td>0</td>\n      <td>0</td>\n      <td>0</td>\n    </tr>\n    <tr>\n      <th>3</th>\n      <td>0</td>\n      <td>0</td>\n      <td>0</td>\n      <td>0</td>\n      <td>0</td>\n      <td>0</td>\n      <td>0</td>\n      <td>0</td>\n      <td>0</td>\n      <td>0</td>\n      <td>...</td>\n      <td>0</td>\n      <td>0</td>\n      <td>0</td>\n      <td>0</td>\n      <td>0</td>\n      <td>0</td>\n      <td>0</td>\n      <td>0</td>\n      <td>0</td>\n      <td>0</td>\n    </tr>\n    <tr>\n      <th>4</th>\n      <td>0</td>\n      <td>0</td>\n      <td>0</td>\n      <td>0</td>\n      <td>0</td>\n      <td>0</td>\n      <td>0</td>\n      <td>0</td>\n      <td>0</td>\n      <td>0</td>\n      <td>...</td>\n      <td>0</td>\n      <td>0</td>\n      <td>0</td>\n      <td>0</td>\n      <td>0</td>\n      <td>0</td>\n      <td>0</td>\n      <td>0</td>\n      <td>0</td>\n      <td>0</td>\n    </tr>\n  </tbody>\n</table>\n<p>5 rows × 909 columns</p>\n</div>"
     },
     "metadata": {},
     "execution_count": 7
    }
   ],
   "source": [
    "headline_bagofwords_df.drop('index', axis=1, inplace=True)\n",
    "headline_bagofwords_df.head()"
   ]
  },
  {
   "cell_type": "code",
   "execution_count": null,
   "metadata": {},
   "outputs": [],
   "source": []
  },
  {
   "cell_type": "code",
   "execution_count": null,
   "metadata": {},
   "outputs": [],
   "source": [
    "# %% [markdown]\n",
    "### TF/IDF\n",
    "\n",
    "# # %%\n",
    "# tfidf = TfidfVectorizer(sublinear_tf = True, min_df = 0, norm = 'l2', lowercase = True, \n",
    "#                         strip_accents = 'ascii', ngram_range = (1, 2), \n",
    "#                         stop_words = 'english', use_idf = True, token_pattern=r'(?u)\\b[A-Za-z]{2,}\\b')\n",
    "# # tfidf = TfidfVectorizer(min_df=0, use_idf=True, lowercase=True, stop_words='english')\n",
    "# features = tfidf.fit_transform(train_data_sample.headline).toarray()\n",
    "# pandas.DataFrame(numpy.round(features, 2), columns = vocab)\n",
    "# features.shape()"
   ]
  }
 ]
}