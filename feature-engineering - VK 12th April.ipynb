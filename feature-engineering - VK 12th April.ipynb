{
 "cells": [
  {
   "cell_type": "code",
   "execution_count": 1,
   "metadata": {},
   "outputs": [],
   "source": [
    "# To add a new cell, type '# %%'\n",
    "# To add a new markdown cell, type '# %% [markdown]'\n",
    "# %% [markdown]\n",
    "# ## Import necessary dependencies\n"
   ]
  },
  {
   "cell_type": "code",
   "execution_count": 25,
   "metadata": {},
   "outputs": [
    {
     "output_type": "stream",
     "name": "stderr",
     "text": "[nltk_data] Downloading package stopwords to\n[nltk_data]     C:\\Users\\viswe\\AppData\\Roaming\\nltk_data...\n[nltk_data]   Package stopwords is already up-to-date!\n[nltk_data] Downloading package gutenberg to\n[nltk_data]     C:\\Users\\viswe\\AppData\\Roaming\\nltk_data...\n[nltk_data]   Package gutenberg is already up-to-date!\n[nltk_data] Downloading package punkt to\n[nltk_data]     C:\\Users\\viswe\\AppData\\Roaming\\nltk_data...\n[nltk_data]   Package punkt is already up-to-date!\n"
    }
   ],
   "source": [
    "import pandas as pd\n",
    "\n",
    "import numpy as np\n",
    "\n",
    "from matplotlib import pyplot as plt\n",
    "\n",
    "from sklearn.feature_extraction.text import TfidfVectorizer\n",
    "from sklearn.feature_extraction.text import CountVectorizer\n",
    "from sklearn.feature_selection import chi2\n",
    "\n",
    "from PIL import Image\n",
    "from collections import Counter\n",
    "import matplotlib.pyplot as plt\n",
    "import sqlite3\n",
    "import re\n",
    "\n",
    "import nltk\n",
    "nltk.download('stopwords')\n",
    "nltk.download('gutenberg')\n",
    "nltk.download('punkt')\n",
    "\n",
    "from keras.preprocessing import text\n",
    "from keras.utils import np_utils\n",
    "from keras.preprocessing import sequence\n",
    "import pydot\n",
    "\n",
    "pd.options.display.max_colwidth = 200\n",
    "%matplotlib inline\n",
    ""
   ]
  },
  {
   "cell_type": "markdown",
   "metadata": {},
   "source": [
    " ## Load in the data from the database"
   ]
  },
  {
   "cell_type": "code",
   "execution_count": 5,
   "metadata": {},
   "outputs": [],
   "source": [
    "dbconn = sqlite3.connect('./data/newsclassifier.db')\n",
    "train_data_df = pd.read_sql_query('SELECT * FROM train_data_sample', dbconn)\n",
    "headline_bagofwords_df = pd.read_sql_query('SELECT * FROM headline_bagofwords', dbconn)\n",
    "dbconn.commit()\n",
    "dbconn.close()\n",
    ""
   ]
  },
  {
   "cell_type": "markdown",
   "metadata": {},
   "source": [
    " ### Check the if the data was loaded correctly"
   ]
  },
  {
   "cell_type": "code",
   "execution_count": 6,
   "metadata": {},
   "outputs": [
    {
     "output_type": "execute_result",
     "data": {
      "text/plain": "   index  category                                         headline  \\\n0  30870         2  NHL on Ice, Maybe for Whole 2004-05 Season (AP)   \n1   7738         2  Rowers to be punished for criticism of teammate   \n2  25351         2                              Changing Directions   \n3  74309         4               Cassini snapshots murky moon Titan   \n4  88347         1                           Farewell Yasser Arafat   \n\n                                                                                                                                                                                                   content  \\\n0  AP - No shots, no saves, no goals. The National Hockey League locked out its players, threatening to keep the sport off the ice for the entire 2004-05 season and perhaps beyond in an effort by man...   \n1                                               ROWER Sally Robbins #39;s teammates are expected to face disciplinary action for publicly criticising her failure to complete the women #39;s eight final.   \n2  Over at USA Today -- Slogan: \"All the News That's Fit to Print in Four Paragraphs or Less\" -- they got together the last couple of weeks and asked the staff to vote for the \"10 things to change in...   \n3  The Cassini probe got the first close-up photos of Saturn #39;s murky moon Titan on Tuesday and began sending them back to Earth. This image is one of the closest ever taken of Saturn #39;s hazy m...   \n4  GAZA CITY, 12 November 2004 - The world will bid farewell to Abu Ammar, Yasser Arafat, as one of the towering figures of Arab politics embarks on his final journey with a state funeral in Cairo to...   \n\n                                  headline_cleaned  \\\n0      NHL on Ice, Maybe for Whole 2004-05 Season    \n1  Rowers to be punished for criticism of teammate   \n2                              Changing Directions   \n3               Cassini snapshots murky moon Titan   \n4                           Farewell Yasser Arafat   \n\n                                                                                                                                                                                           content_cleaned  \n0  AP - No shots, no saves, no goals. The  locked out its players, threatening to keep the sport off the ice for the entire 2004-05 season and perhaps beyond in an effort by management to gain massiv...  \n1                                               ROWER Sally Robbins #39;s teammates are expected to face disciplinary action for publicly criticising her failure to complete the women #39;s eight final.  \n2     Over at  -- Slogan: \"All the News That's Fit to Print in Four Paragraphs or Less\" -- they got together the last couple of weeks and asked the staff to vote for the \"10 things to change in sports.\"  \n3  The Cassini probe got the first close-up photos of Saturn #39;s murky moon Titan on Tuesday and began sending them back to Earth. This image is one of the closest ever taken of Saturn #39;s hazy m...  \n4  GAZA CITY, 12 November 2004 - The world will bid farewell to Abu Ammar, Yasser Arafat, as one of the towering figures of Arab politics embarks on his final journey with a state funeral in Cairo to...  ",
      "text/html": "<div>\n<style scoped>\n    .dataframe tbody tr th:only-of-type {\n        vertical-align: middle;\n    }\n\n    .dataframe tbody tr th {\n        vertical-align: top;\n    }\n\n    .dataframe thead th {\n        text-align: right;\n    }\n</style>\n<table border=\"1\" class=\"dataframe\">\n  <thead>\n    <tr style=\"text-align: right;\">\n      <th></th>\n      <th>index</th>\n      <th>category</th>\n      <th>headline</th>\n      <th>content</th>\n      <th>headline_cleaned</th>\n      <th>content_cleaned</th>\n    </tr>\n  </thead>\n  <tbody>\n    <tr>\n      <th>0</th>\n      <td>30870</td>\n      <td>2</td>\n      <td>NHL on Ice, Maybe for Whole 2004-05 Season (AP)</td>\n      <td>AP - No shots, no saves, no goals. The National Hockey League locked out its players, threatening to keep the sport off the ice for the entire 2004-05 season and perhaps beyond in an effort by man...</td>\n      <td>NHL on Ice, Maybe for Whole 2004-05 Season</td>\n      <td>AP - No shots, no saves, no goals. The  locked out its players, threatening to keep the sport off the ice for the entire 2004-05 season and perhaps beyond in an effort by management to gain massiv...</td>\n    </tr>\n    <tr>\n      <th>1</th>\n      <td>7738</td>\n      <td>2</td>\n      <td>Rowers to be punished for criticism of teammate</td>\n      <td>ROWER Sally Robbins #39;s teammates are expected to face disciplinary action for publicly criticising her failure to complete the women #39;s eight final.</td>\n      <td>Rowers to be punished for criticism of teammate</td>\n      <td>ROWER Sally Robbins #39;s teammates are expected to face disciplinary action for publicly criticising her failure to complete the women #39;s eight final.</td>\n    </tr>\n    <tr>\n      <th>2</th>\n      <td>25351</td>\n      <td>2</td>\n      <td>Changing Directions</td>\n      <td>Over at USA Today -- Slogan: \"All the News That's Fit to Print in Four Paragraphs or Less\" -- they got together the last couple of weeks and asked the staff to vote for the \"10 things to change in...</td>\n      <td>Changing Directions</td>\n      <td>Over at  -- Slogan: \"All the News That's Fit to Print in Four Paragraphs or Less\" -- they got together the last couple of weeks and asked the staff to vote for the \"10 things to change in sports.\"</td>\n    </tr>\n    <tr>\n      <th>3</th>\n      <td>74309</td>\n      <td>4</td>\n      <td>Cassini snapshots murky moon Titan</td>\n      <td>The Cassini probe got the first close-up photos of Saturn #39;s murky moon Titan on Tuesday and began sending them back to Earth. This image is one of the closest ever taken of Saturn #39;s hazy m...</td>\n      <td>Cassini snapshots murky moon Titan</td>\n      <td>The Cassini probe got the first close-up photos of Saturn #39;s murky moon Titan on Tuesday and began sending them back to Earth. This image is one of the closest ever taken of Saturn #39;s hazy m...</td>\n    </tr>\n    <tr>\n      <th>4</th>\n      <td>88347</td>\n      <td>1</td>\n      <td>Farewell Yasser Arafat</td>\n      <td>GAZA CITY, 12 November 2004 - The world will bid farewell to Abu Ammar, Yasser Arafat, as one of the towering figures of Arab politics embarks on his final journey with a state funeral in Cairo to...</td>\n      <td>Farewell Yasser Arafat</td>\n      <td>GAZA CITY, 12 November 2004 - The world will bid farewell to Abu Ammar, Yasser Arafat, as one of the towering figures of Arab politics embarks on his final journey with a state funeral in Cairo to...</td>\n    </tr>\n  </tbody>\n</table>\n</div>"
     },
     "metadata": {},
     "execution_count": 6
    }
   ],
   "source": [
    "train_data_df.head()\n",
    "\n",
    ""
   ]
  },
  {
   "cell_type": "code",
   "execution_count": 7,
   "metadata": {},
   "outputs": [
    {
     "output_type": "execute_result",
     "data": {
      "text/plain": "   index  abuse  acc  accept  add  adds  afghan  afp  africa  african  ...  \\\n0      0      0    0       0    0     0       0    0       0        0  ...   \n1      1      0    0       0    0     0       0    0       0        0  ...   \n2      2      0    0       0    0     0       0    0       0        0  ...   \n3      3      0    0       0    0     0       0    0       0        0  ...   \n4      4      0    0       0    0     0       0    0       0        0  ...   \n\n   xp  yahoo  yankees  year  years  yen  yields  yukos  zero  zurich  \n0   0      0        0     0      0    0       0      0     0       0  \n1   0      0        0     0      0    0       0      0     0       0  \n2   0      0        0     0      0    0       0      0     0       0  \n3   0      0        0     0      0    0       0      0     0       0  \n4   0      0        0     0      0    0       0      0     0       0  \n\n[5 rows x 910 columns]",
      "text/html": "<div>\n<style scoped>\n    .dataframe tbody tr th:only-of-type {\n        vertical-align: middle;\n    }\n\n    .dataframe tbody tr th {\n        vertical-align: top;\n    }\n\n    .dataframe thead th {\n        text-align: right;\n    }\n</style>\n<table border=\"1\" class=\"dataframe\">\n  <thead>\n    <tr style=\"text-align: right;\">\n      <th></th>\n      <th>index</th>\n      <th>abuse</th>\n      <th>acc</th>\n      <th>accept</th>\n      <th>add</th>\n      <th>adds</th>\n      <th>afghan</th>\n      <th>afp</th>\n      <th>africa</th>\n      <th>african</th>\n      <th>...</th>\n      <th>xp</th>\n      <th>yahoo</th>\n      <th>yankees</th>\n      <th>year</th>\n      <th>years</th>\n      <th>yen</th>\n      <th>yields</th>\n      <th>yukos</th>\n      <th>zero</th>\n      <th>zurich</th>\n    </tr>\n  </thead>\n  <tbody>\n    <tr>\n      <th>0</th>\n      <td>0</td>\n      <td>0</td>\n      <td>0</td>\n      <td>0</td>\n      <td>0</td>\n      <td>0</td>\n      <td>0</td>\n      <td>0</td>\n      <td>0</td>\n      <td>0</td>\n      <td>...</td>\n      <td>0</td>\n      <td>0</td>\n      <td>0</td>\n      <td>0</td>\n      <td>0</td>\n      <td>0</td>\n      <td>0</td>\n      <td>0</td>\n      <td>0</td>\n      <td>0</td>\n    </tr>\n    <tr>\n      <th>1</th>\n      <td>1</td>\n      <td>0</td>\n      <td>0</td>\n      <td>0</td>\n      <td>0</td>\n      <td>0</td>\n      <td>0</td>\n      <td>0</td>\n      <td>0</td>\n      <td>0</td>\n      <td>...</td>\n      <td>0</td>\n      <td>0</td>\n      <td>0</td>\n      <td>0</td>\n      <td>0</td>\n      <td>0</td>\n      <td>0</td>\n      <td>0</td>\n      <td>0</td>\n      <td>0</td>\n    </tr>\n    <tr>\n      <th>2</th>\n      <td>2</td>\n      <td>0</td>\n      <td>0</td>\n      <td>0</td>\n      <td>0</td>\n      <td>0</td>\n      <td>0</td>\n      <td>0</td>\n      <td>0</td>\n      <td>0</td>\n      <td>...</td>\n      <td>0</td>\n      <td>0</td>\n      <td>0</td>\n      <td>0</td>\n      <td>0</td>\n      <td>0</td>\n      <td>0</td>\n      <td>0</td>\n      <td>0</td>\n      <td>0</td>\n    </tr>\n    <tr>\n      <th>3</th>\n      <td>3</td>\n      <td>0</td>\n      <td>0</td>\n      <td>0</td>\n      <td>0</td>\n      <td>0</td>\n      <td>0</td>\n      <td>0</td>\n      <td>0</td>\n      <td>0</td>\n      <td>...</td>\n      <td>0</td>\n      <td>0</td>\n      <td>0</td>\n      <td>0</td>\n      <td>0</td>\n      <td>0</td>\n      <td>0</td>\n      <td>0</td>\n      <td>0</td>\n      <td>0</td>\n    </tr>\n    <tr>\n      <th>4</th>\n      <td>4</td>\n      <td>0</td>\n      <td>0</td>\n      <td>0</td>\n      <td>0</td>\n      <td>0</td>\n      <td>0</td>\n      <td>0</td>\n      <td>0</td>\n      <td>0</td>\n      <td>...</td>\n      <td>0</td>\n      <td>0</td>\n      <td>0</td>\n      <td>0</td>\n      <td>0</td>\n      <td>0</td>\n      <td>0</td>\n      <td>0</td>\n      <td>0</td>\n      <td>0</td>\n    </tr>\n  </tbody>\n</table>\n<p>5 rows × 910 columns</p>\n</div>"
     },
     "metadata": {},
     "execution_count": 7
    }
   ],
   "source": [
    "headline_bagofwords_df.head()\n",
    "\n",
    ""
   ]
  },
  {
   "cell_type": "code",
   "execution_count": 8,
   "metadata": {},
   "outputs": [
    {
     "output_type": "execute_result",
     "data": {
      "text/plain": "   category                                         headline  \\\n0         2  NHL on Ice, Maybe for Whole 2004-05 Season (AP)   \n1         2  Rowers to be punished for criticism of teammate   \n2         2                              Changing Directions   \n3         4               Cassini snapshots murky moon Titan   \n4         1                           Farewell Yasser Arafat   \n\n                                                                                                                                                                                                   content  \\\n0  AP - No shots, no saves, no goals. The National Hockey League locked out its players, threatening to keep the sport off the ice for the entire 2004-05 season and perhaps beyond in an effort by man...   \n1                                               ROWER Sally Robbins #39;s teammates are expected to face disciplinary action for publicly criticising her failure to complete the women #39;s eight final.   \n2  Over at USA Today -- Slogan: \"All the News That's Fit to Print in Four Paragraphs or Less\" -- they got together the last couple of weeks and asked the staff to vote for the \"10 things to change in...   \n3  The Cassini probe got the first close-up photos of Saturn #39;s murky moon Titan on Tuesday and began sending them back to Earth. This image is one of the closest ever taken of Saturn #39;s hazy m...   \n4  GAZA CITY, 12 November 2004 - The world will bid farewell to Abu Ammar, Yasser Arafat, as one of the towering figures of Arab politics embarks on his final journey with a state funeral in Cairo to...   \n\n                                  headline_cleaned  \\\n0      NHL on Ice, Maybe for Whole 2004-05 Season    \n1  Rowers to be punished for criticism of teammate   \n2                              Changing Directions   \n3               Cassini snapshots murky moon Titan   \n4                           Farewell Yasser Arafat   \n\n                                                                                                                                                                                           content_cleaned  \n0  AP - No shots, no saves, no goals. The  locked out its players, threatening to keep the sport off the ice for the entire 2004-05 season and perhaps beyond in an effort by management to gain massiv...  \n1                                               ROWER Sally Robbins #39;s teammates are expected to face disciplinary action for publicly criticising her failure to complete the women #39;s eight final.  \n2     Over at  -- Slogan: \"All the News That's Fit to Print in Four Paragraphs or Less\" -- they got together the last couple of weeks and asked the staff to vote for the \"10 things to change in sports.\"  \n3  The Cassini probe got the first close-up photos of Saturn #39;s murky moon Titan on Tuesday and began sending them back to Earth. This image is one of the closest ever taken of Saturn #39;s hazy m...  \n4  GAZA CITY, 12 November 2004 - The world will bid farewell to Abu Ammar, Yasser Arafat, as one of the towering figures of Arab politics embarks on his final journey with a state funeral in Cairo to...  ",
      "text/html": "<div>\n<style scoped>\n    .dataframe tbody tr th:only-of-type {\n        vertical-align: middle;\n    }\n\n    .dataframe tbody tr th {\n        vertical-align: top;\n    }\n\n    .dataframe thead th {\n        text-align: right;\n    }\n</style>\n<table border=\"1\" class=\"dataframe\">\n  <thead>\n    <tr style=\"text-align: right;\">\n      <th></th>\n      <th>category</th>\n      <th>headline</th>\n      <th>content</th>\n      <th>headline_cleaned</th>\n      <th>content_cleaned</th>\n    </tr>\n  </thead>\n  <tbody>\n    <tr>\n      <th>0</th>\n      <td>2</td>\n      <td>NHL on Ice, Maybe for Whole 2004-05 Season (AP)</td>\n      <td>AP - No shots, no saves, no goals. The National Hockey League locked out its players, threatening to keep the sport off the ice for the entire 2004-05 season and perhaps beyond in an effort by man...</td>\n      <td>NHL on Ice, Maybe for Whole 2004-05 Season</td>\n      <td>AP - No shots, no saves, no goals. The  locked out its players, threatening to keep the sport off the ice for the entire 2004-05 season and perhaps beyond in an effort by management to gain massiv...</td>\n    </tr>\n    <tr>\n      <th>1</th>\n      <td>2</td>\n      <td>Rowers to be punished for criticism of teammate</td>\n      <td>ROWER Sally Robbins #39;s teammates are expected to face disciplinary action for publicly criticising her failure to complete the women #39;s eight final.</td>\n      <td>Rowers to be punished for criticism of teammate</td>\n      <td>ROWER Sally Robbins #39;s teammates are expected to face disciplinary action for publicly criticising her failure to complete the women #39;s eight final.</td>\n    </tr>\n    <tr>\n      <th>2</th>\n      <td>2</td>\n      <td>Changing Directions</td>\n      <td>Over at USA Today -- Slogan: \"All the News That's Fit to Print in Four Paragraphs or Less\" -- they got together the last couple of weeks and asked the staff to vote for the \"10 things to change in...</td>\n      <td>Changing Directions</td>\n      <td>Over at  -- Slogan: \"All the News That's Fit to Print in Four Paragraphs or Less\" -- they got together the last couple of weeks and asked the staff to vote for the \"10 things to change in sports.\"</td>\n    </tr>\n    <tr>\n      <th>3</th>\n      <td>4</td>\n      <td>Cassini snapshots murky moon Titan</td>\n      <td>The Cassini probe got the first close-up photos of Saturn #39;s murky moon Titan on Tuesday and began sending them back to Earth. This image is one of the closest ever taken of Saturn #39;s hazy m...</td>\n      <td>Cassini snapshots murky moon Titan</td>\n      <td>The Cassini probe got the first close-up photos of Saturn #39;s murky moon Titan on Tuesday and began sending them back to Earth. This image is one of the closest ever taken of Saturn #39;s hazy m...</td>\n    </tr>\n    <tr>\n      <th>4</th>\n      <td>1</td>\n      <td>Farewell Yasser Arafat</td>\n      <td>GAZA CITY, 12 November 2004 - The world will bid farewell to Abu Ammar, Yasser Arafat, as one of the towering figures of Arab politics embarks on his final journey with a state funeral in Cairo to...</td>\n      <td>Farewell Yasser Arafat</td>\n      <td>GAZA CITY, 12 November 2004 - The world will bid farewell to Abu Ammar, Yasser Arafat, as one of the towering figures of Arab politics embarks on his final journey with a state funeral in Cairo to...</td>\n    </tr>\n  </tbody>\n</table>\n</div>"
     },
     "metadata": {},
     "execution_count": 8
    }
   ],
   "source": [
    "train_data_df.drop('index', axis=1, inplace=True)\n",
    "train_data_df.head()\n",
    "\n",
    ""
   ]
  },
  {
   "cell_type": "code",
   "execution_count": 9,
   "metadata": {},
   "outputs": [
    {
     "output_type": "execute_result",
     "data": {
      "text/plain": "   abuse  acc  accept  add  adds  afghan  afp  africa  african  agree  ...  \\\n0      0    0       0    0     0       0    0       0        0      0  ...   \n1      0    0       0    0     0       0    0       0        0      0  ...   \n2      0    0       0    0     0       0    0       0        0      0  ...   \n3      0    0       0    0     0       0    0       0        0      0  ...   \n4      0    0       0    0     0       0    0       0        0      0  ...   \n\n   xp  yahoo  yankees  year  years  yen  yields  yukos  zero  zurich  \n0   0      0        0     0      0    0       0      0     0       0  \n1   0      0        0     0      0    0       0      0     0       0  \n2   0      0        0     0      0    0       0      0     0       0  \n3   0      0        0     0      0    0       0      0     0       0  \n4   0      0        0     0      0    0       0      0     0       0  \n\n[5 rows x 909 columns]",
      "text/html": "<div>\n<style scoped>\n    .dataframe tbody tr th:only-of-type {\n        vertical-align: middle;\n    }\n\n    .dataframe tbody tr th {\n        vertical-align: top;\n    }\n\n    .dataframe thead th {\n        text-align: right;\n    }\n</style>\n<table border=\"1\" class=\"dataframe\">\n  <thead>\n    <tr style=\"text-align: right;\">\n      <th></th>\n      <th>abuse</th>\n      <th>acc</th>\n      <th>accept</th>\n      <th>add</th>\n      <th>adds</th>\n      <th>afghan</th>\n      <th>afp</th>\n      <th>africa</th>\n      <th>african</th>\n      <th>agree</th>\n      <th>...</th>\n      <th>xp</th>\n      <th>yahoo</th>\n      <th>yankees</th>\n      <th>year</th>\n      <th>years</th>\n      <th>yen</th>\n      <th>yields</th>\n      <th>yukos</th>\n      <th>zero</th>\n      <th>zurich</th>\n    </tr>\n  </thead>\n  <tbody>\n    <tr>\n      <th>0</th>\n      <td>0</td>\n      <td>0</td>\n      <td>0</td>\n      <td>0</td>\n      <td>0</td>\n      <td>0</td>\n      <td>0</td>\n      <td>0</td>\n      <td>0</td>\n      <td>0</td>\n      <td>...</td>\n      <td>0</td>\n      <td>0</td>\n      <td>0</td>\n      <td>0</td>\n      <td>0</td>\n      <td>0</td>\n      <td>0</td>\n      <td>0</td>\n      <td>0</td>\n      <td>0</td>\n    </tr>\n    <tr>\n      <th>1</th>\n      <td>0</td>\n      <td>0</td>\n      <td>0</td>\n      <td>0</td>\n      <td>0</td>\n      <td>0</td>\n      <td>0</td>\n      <td>0</td>\n      <td>0</td>\n      <td>0</td>\n      <td>...</td>\n      <td>0</td>\n      <td>0</td>\n      <td>0</td>\n      <td>0</td>\n      <td>0</td>\n      <td>0</td>\n      <td>0</td>\n      <td>0</td>\n      <td>0</td>\n      <td>0</td>\n    </tr>\n    <tr>\n      <th>2</th>\n      <td>0</td>\n      <td>0</td>\n      <td>0</td>\n      <td>0</td>\n      <td>0</td>\n      <td>0</td>\n      <td>0</td>\n      <td>0</td>\n      <td>0</td>\n      <td>0</td>\n      <td>...</td>\n      <td>0</td>\n      <td>0</td>\n      <td>0</td>\n      <td>0</td>\n      <td>0</td>\n      <td>0</td>\n      <td>0</td>\n      <td>0</td>\n      <td>0</td>\n      <td>0</td>\n    </tr>\n    <tr>\n      <th>3</th>\n      <td>0</td>\n      <td>0</td>\n      <td>0</td>\n      <td>0</td>\n      <td>0</td>\n      <td>0</td>\n      <td>0</td>\n      <td>0</td>\n      <td>0</td>\n      <td>0</td>\n      <td>...</td>\n      <td>0</td>\n      <td>0</td>\n      <td>0</td>\n      <td>0</td>\n      <td>0</td>\n      <td>0</td>\n      <td>0</td>\n      <td>0</td>\n      <td>0</td>\n      <td>0</td>\n    </tr>\n    <tr>\n      <th>4</th>\n      <td>0</td>\n      <td>0</td>\n      <td>0</td>\n      <td>0</td>\n      <td>0</td>\n      <td>0</td>\n      <td>0</td>\n      <td>0</td>\n      <td>0</td>\n      <td>0</td>\n      <td>...</td>\n      <td>0</td>\n      <td>0</td>\n      <td>0</td>\n      <td>0</td>\n      <td>0</td>\n      <td>0</td>\n      <td>0</td>\n      <td>0</td>\n      <td>0</td>\n      <td>0</td>\n    </tr>\n  </tbody>\n</table>\n<p>5 rows × 909 columns</p>\n</div>"
     },
     "metadata": {},
     "execution_count": 9
    }
   ],
   "source": [
    "headline_bagofwords_df.drop('index', axis=1, inplace=True)\n",
    "headline_bagofwords_df.head()\n",
    "\n",
    ""
   ]
  },
  {
   "cell_type": "markdown",
   "metadata": {},
   "source": [
    " ### We have bag of words already, let's make a Bag of N-Grams"
   ]
  },
  {
   "cell_type": "code",
   "execution_count": 11,
   "metadata": {},
   "outputs": [],
   "source": [
    "# Use countvectorizer to get a word vector\n",
    "cv = CountVectorizer(min_df = 2, lowercase = True, token_pattern=r'(?u)\\b[A-Za-z]{2,}\\b', \n",
    "                        strip_accents = 'ascii', ngram_range = (2, 3), \n",
    "                        stop_words = 'english')\n",
    "cv_matrix = cv.fit_transform(train_data_df.headline_cleaned).toarray()\n",
    "\n",
    "# below is if wanted to define a specific category for the data.\n",
    "# cv_matrix = cv.fit_transform(train_data_df[train_data_df.category == 1].headline_cleaned).toarray()\n",
    "\n",
    "# get all unique words in the corpus\n",
    "vocab = cv.get_feature_names()\n",
    "\n",
    "# produce a dataframe including the feature names\n",
    "headline_bagofngrams_df = pd.DataFrame(cv_matrix, columns=vocab)\n",
    ""
   ]
  },
  {
   "cell_type": "markdown",
   "metadata": {},
   "source": [
    " ### Make sure we got the dataframe output for the Bag of N-Grams"
   ]
  },
  {
   "cell_type": "code",
   "execution_count": 12,
   "metadata": {},
   "outputs": [
    {
     "output_type": "execute_result",
     "data": {
      "text/plain": "   al qaeda  allows settler  allows settler homes  anti piracy  audit finds  \\\n0         0               0                     0            0            0   \n1         0               0                     0            0            0   \n2         0               0                     0            0            0   \n3         0               0                     0            0            0   \n4         0               0                     0            0            0   \n\n   bird flu  blast kills  blow icann  blow icann suit  bomber kills  ...  \\\n0         0            0           0                0             0  ...   \n1         0            0           0                0             0  ...   \n2         0            0           0                0             0  ...   \n3         0            0           0                0             0  ...   \n4         0            0           0                0             0  ...   \n\n   title hopes  tokyo stocks  verisign dealt  verisign dealt legal  \\\n0            0             0               0                     0   \n1            0             0               0                     0   \n2            0             0               0                     0   \n3            0             0               0                     0   \n4            0             0               0                     0   \n\n   version windows  west bank  win china  win china open  windows xp  \\\n0                0          0          0               0           0   \n1                0          0          0               0           0   \n2                0          0          0               0           0   \n3                0          0          0               0           0   \n4                0          0          0               0           0   \n\n   world cup  \n0          0  \n1          0  \n2          0  \n3          0  \n4          0  \n\n[5 rows x 85 columns]",
      "text/html": "<div>\n<style scoped>\n    .dataframe tbody tr th:only-of-type {\n        vertical-align: middle;\n    }\n\n    .dataframe tbody tr th {\n        vertical-align: top;\n    }\n\n    .dataframe thead th {\n        text-align: right;\n    }\n</style>\n<table border=\"1\" class=\"dataframe\">\n  <thead>\n    <tr style=\"text-align: right;\">\n      <th></th>\n      <th>al qaeda</th>\n      <th>allows settler</th>\n      <th>allows settler homes</th>\n      <th>anti piracy</th>\n      <th>audit finds</th>\n      <th>bird flu</th>\n      <th>blast kills</th>\n      <th>blow icann</th>\n      <th>blow icann suit</th>\n      <th>bomber kills</th>\n      <th>...</th>\n      <th>title hopes</th>\n      <th>tokyo stocks</th>\n      <th>verisign dealt</th>\n      <th>verisign dealt legal</th>\n      <th>version windows</th>\n      <th>west bank</th>\n      <th>win china</th>\n      <th>win china open</th>\n      <th>windows xp</th>\n      <th>world cup</th>\n    </tr>\n  </thead>\n  <tbody>\n    <tr>\n      <th>0</th>\n      <td>0</td>\n      <td>0</td>\n      <td>0</td>\n      <td>0</td>\n      <td>0</td>\n      <td>0</td>\n      <td>0</td>\n      <td>0</td>\n      <td>0</td>\n      <td>0</td>\n      <td>...</td>\n      <td>0</td>\n      <td>0</td>\n      <td>0</td>\n      <td>0</td>\n      <td>0</td>\n      <td>0</td>\n      <td>0</td>\n      <td>0</td>\n      <td>0</td>\n      <td>0</td>\n    </tr>\n    <tr>\n      <th>1</th>\n      <td>0</td>\n      <td>0</td>\n      <td>0</td>\n      <td>0</td>\n      <td>0</td>\n      <td>0</td>\n      <td>0</td>\n      <td>0</td>\n      <td>0</td>\n      <td>0</td>\n      <td>...</td>\n      <td>0</td>\n      <td>0</td>\n      <td>0</td>\n      <td>0</td>\n      <td>0</td>\n      <td>0</td>\n      <td>0</td>\n      <td>0</td>\n      <td>0</td>\n      <td>0</td>\n    </tr>\n    <tr>\n      <th>2</th>\n      <td>0</td>\n      <td>0</td>\n      <td>0</td>\n      <td>0</td>\n      <td>0</td>\n      <td>0</td>\n      <td>0</td>\n      <td>0</td>\n      <td>0</td>\n      <td>0</td>\n      <td>...</td>\n      <td>0</td>\n      <td>0</td>\n      <td>0</td>\n      <td>0</td>\n      <td>0</td>\n      <td>0</td>\n      <td>0</td>\n      <td>0</td>\n      <td>0</td>\n      <td>0</td>\n    </tr>\n    <tr>\n      <th>3</th>\n      <td>0</td>\n      <td>0</td>\n      <td>0</td>\n      <td>0</td>\n      <td>0</td>\n      <td>0</td>\n      <td>0</td>\n      <td>0</td>\n      <td>0</td>\n      <td>0</td>\n      <td>...</td>\n      <td>0</td>\n      <td>0</td>\n      <td>0</td>\n      <td>0</td>\n      <td>0</td>\n      <td>0</td>\n      <td>0</td>\n      <td>0</td>\n      <td>0</td>\n      <td>0</td>\n    </tr>\n    <tr>\n      <th>4</th>\n      <td>0</td>\n      <td>0</td>\n      <td>0</td>\n      <td>0</td>\n      <td>0</td>\n      <td>0</td>\n      <td>0</td>\n      <td>0</td>\n      <td>0</td>\n      <td>0</td>\n      <td>...</td>\n      <td>0</td>\n      <td>0</td>\n      <td>0</td>\n      <td>0</td>\n      <td>0</td>\n      <td>0</td>\n      <td>0</td>\n      <td>0</td>\n      <td>0</td>\n      <td>0</td>\n    </tr>\n  </tbody>\n</table>\n<p>5 rows × 85 columns</p>\n</div>"
     },
     "metadata": {},
     "execution_count": 12
    }
   ],
   "source": [
    "headline_bagofngrams_df.head()\n",
    ""
   ]
  },
  {
   "cell_type": "markdown",
   "metadata": {},
   "source": [
    " ### Let's explore the data we got through plots and tables"
   ]
  },
  {
   "cell_type": "code",
   "execution_count": 13,
   "metadata": {},
   "outputs": [
    {
     "output_type": "error",
     "ename": "NameError",
     "evalue": "name 'pandas' is not defined",
     "traceback": [
      "\u001b[1;31m---------------------------------------------------------------------------\u001b[0m",
      "\u001b[1;31mNameError\u001b[0m                                 Traceback (most recent call last)",
      "\u001b[1;32m<ipython-input-13-e295f3c3f9d4>\u001b[0m in \u001b[0;36m<module>\u001b[1;34m\u001b[0m\n\u001b[0;32m      5\u001b[0m \u001b[0mcounter\u001b[0m \u001b[1;33m=\u001b[0m \u001b[0mCounter\u001b[0m\u001b[1;33m(\u001b[0m\u001b[0mword_count_dict\u001b[0m\u001b[1;33m)\u001b[0m\u001b[1;33m\u001b[0m\u001b[1;33m\u001b[0m\u001b[0m\n\u001b[0;32m      6\u001b[0m \u001b[1;33m\u001b[0m\u001b[0m\n\u001b[1;32m----> 7\u001b[1;33m freq_df = pandas.DataFrame.from_records(counter.most_common(20),\n\u001b[0m\u001b[0;32m      8\u001b[0m                                         columns=['Top 20 words', 'Frequency'])\n\u001b[0;32m      9\u001b[0m \u001b[0mfreq_df\u001b[0m\u001b[1;33m.\u001b[0m\u001b[0mplot\u001b[0m\u001b[1;33m(\u001b[0m\u001b[0mkind\u001b[0m\u001b[1;33m=\u001b[0m\u001b[1;34m'bar'\u001b[0m\u001b[1;33m,\u001b[0m \u001b[0mx\u001b[0m\u001b[1;33m=\u001b[0m\u001b[1;34m'Top 20 words'\u001b[0m\u001b[1;33m)\u001b[0m\u001b[1;33m;\u001b[0m\u001b[1;33m\u001b[0m\u001b[1;33m\u001b[0m\u001b[0m\n",
      "\u001b[1;31mNameError\u001b[0m: name 'pandas' is not defined"
     ]
    }
   ],
   "source": [
    "word_count_dict = {}\n",
    "for word in vocab:\n",
    "    word_count_dict[word] = int(sum(headline_bagofngrams_df.loc[:, word]))\n",
    "\n",
    "counter = Counter(word_count_dict)\n",
    "\n",
    "freq_df = pd.DataFrame.from_records(counter.most_common(20),\n",
    "                                        columns=['Top 20 words', 'Frequency'])\n",
    "freq_df.plot(kind='bar', x='Top 20 words');\n",
    "\n"
   ]
  },
  {
   "cell_type": "markdown",
   "metadata": {},
   "source": [
    " ## TF/IDF"
   ]
  },
  {
   "cell_type": "markdown",
   "metadata": {},
   "source": [
    " ### Unigram TF/IDF"
   ]
  },
  {
   "cell_type": "code",
   "execution_count": 16,
   "metadata": {},
   "outputs": [
    {
     "output_type": "execute_result",
     "data": {
      "text/plain": "   abuse  acc  accept  add  adds  afghan  africa  african  agree  agrees  ...  \\\n0    0.0  0.0     0.0  0.0   0.0     0.0     0.0      0.0    0.0     0.0  ...   \n1    0.0  0.0     0.0  0.0   0.0     0.0     0.0      0.0    0.0     0.0  ...   \n2    0.0  0.0     0.0  0.0   0.0     0.0     0.0      0.0    0.0     0.0  ...   \n3    0.0  0.0     0.0  0.0   0.0     0.0     0.0      0.0    0.0     0.0  ...   \n4    0.0  0.0     0.0  0.0   0.0     0.0     0.0      0.0    0.0     0.0  ...   \n\n    xp  yahoo  yankees  year  years  yen  yields  yukos  zero  zurich  \n0  0.0    0.0      0.0   0.0    0.0  0.0     0.0    0.0   0.0     0.0  \n1  0.0    0.0      0.0   0.0    0.0  0.0     0.0    0.0   0.0     0.0  \n2  0.0    0.0      0.0   0.0    0.0  0.0     0.0    0.0   0.0     0.0  \n3  0.0    0.0      0.0   0.0    0.0  0.0     0.0    0.0   0.0     0.0  \n4  0.0    0.0      0.0   0.0    0.0  0.0     0.0    0.0   0.0     0.0  \n\n[5 rows x 898 columns]",
      "text/html": "<div>\n<style scoped>\n    .dataframe tbody tr th:only-of-type {\n        vertical-align: middle;\n    }\n\n    .dataframe tbody tr th {\n        vertical-align: top;\n    }\n\n    .dataframe thead th {\n        text-align: right;\n    }\n</style>\n<table border=\"1\" class=\"dataframe\">\n  <thead>\n    <tr style=\"text-align: right;\">\n      <th></th>\n      <th>abuse</th>\n      <th>acc</th>\n      <th>accept</th>\n      <th>add</th>\n      <th>adds</th>\n      <th>afghan</th>\n      <th>africa</th>\n      <th>african</th>\n      <th>agree</th>\n      <th>agrees</th>\n      <th>...</th>\n      <th>xp</th>\n      <th>yahoo</th>\n      <th>yankees</th>\n      <th>year</th>\n      <th>years</th>\n      <th>yen</th>\n      <th>yields</th>\n      <th>yukos</th>\n      <th>zero</th>\n      <th>zurich</th>\n    </tr>\n  </thead>\n  <tbody>\n    <tr>\n      <th>0</th>\n      <td>0.0</td>\n      <td>0.0</td>\n      <td>0.0</td>\n      <td>0.0</td>\n      <td>0.0</td>\n      <td>0.0</td>\n      <td>0.0</td>\n      <td>0.0</td>\n      <td>0.0</td>\n      <td>0.0</td>\n      <td>...</td>\n      <td>0.0</td>\n      <td>0.0</td>\n      <td>0.0</td>\n      <td>0.0</td>\n      <td>0.0</td>\n      <td>0.0</td>\n      <td>0.0</td>\n      <td>0.0</td>\n      <td>0.0</td>\n      <td>0.0</td>\n    </tr>\n    <tr>\n      <th>1</th>\n      <td>0.0</td>\n      <td>0.0</td>\n      <td>0.0</td>\n      <td>0.0</td>\n      <td>0.0</td>\n      <td>0.0</td>\n      <td>0.0</td>\n      <td>0.0</td>\n      <td>0.0</td>\n      <td>0.0</td>\n      <td>...</td>\n      <td>0.0</td>\n      <td>0.0</td>\n      <td>0.0</td>\n      <td>0.0</td>\n      <td>0.0</td>\n      <td>0.0</td>\n      <td>0.0</td>\n      <td>0.0</td>\n      <td>0.0</td>\n      <td>0.0</td>\n    </tr>\n    <tr>\n      <th>2</th>\n      <td>0.0</td>\n      <td>0.0</td>\n      <td>0.0</td>\n      <td>0.0</td>\n      <td>0.0</td>\n      <td>0.0</td>\n      <td>0.0</td>\n      <td>0.0</td>\n      <td>0.0</td>\n      <td>0.0</td>\n      <td>...</td>\n      <td>0.0</td>\n      <td>0.0</td>\n      <td>0.0</td>\n      <td>0.0</td>\n      <td>0.0</td>\n      <td>0.0</td>\n      <td>0.0</td>\n      <td>0.0</td>\n      <td>0.0</td>\n      <td>0.0</td>\n    </tr>\n    <tr>\n      <th>3</th>\n      <td>0.0</td>\n      <td>0.0</td>\n      <td>0.0</td>\n      <td>0.0</td>\n      <td>0.0</td>\n      <td>0.0</td>\n      <td>0.0</td>\n      <td>0.0</td>\n      <td>0.0</td>\n      <td>0.0</td>\n      <td>...</td>\n      <td>0.0</td>\n      <td>0.0</td>\n      <td>0.0</td>\n      <td>0.0</td>\n      <td>0.0</td>\n      <td>0.0</td>\n      <td>0.0</td>\n      <td>0.0</td>\n      <td>0.0</td>\n      <td>0.0</td>\n    </tr>\n    <tr>\n      <th>4</th>\n      <td>0.0</td>\n      <td>0.0</td>\n      <td>0.0</td>\n      <td>0.0</td>\n      <td>0.0</td>\n      <td>0.0</td>\n      <td>0.0</td>\n      <td>0.0</td>\n      <td>0.0</td>\n      <td>0.0</td>\n      <td>...</td>\n      <td>0.0</td>\n      <td>0.0</td>\n      <td>0.0</td>\n      <td>0.0</td>\n      <td>0.0</td>\n      <td>0.0</td>\n      <td>0.0</td>\n      <td>0.0</td>\n      <td>0.0</td>\n      <td>0.0</td>\n    </tr>\n  </tbody>\n</table>\n<p>5 rows × 898 columns</p>\n</div>"
     },
     "metadata": {},
     "execution_count": 16
    }
   ],
   "source": [
    "tfidf_vect = TfidfVectorizer(sublinear_tf = True, min_df = 2, lowercase = True, \n",
    "                             strip_accents = 'ascii', ngram_range = (1, 1), \n",
    "                             stop_words = 'english', use_idf = True, token_pattern=r'(?u)\\b[A-Za-z]{2,}\\b')\n",
    "tfidf_unigram = tfidf_vect.fit_transform(train_data_df.headline_cleaned).toarray()\n",
    "\n",
    "# get all unique words in the corpus\n",
    "vocab = tfidf_vect.get_feature_names()\n",
    "\n",
    "tfidf_unigram = pd.DataFrame(np.round(tfidf_unigram, 2), columns = vocab)\n",
    "tfidf_unigram.head()\n",
    ""
   ]
  },
  {
   "cell_type": "markdown",
   "metadata": {},
   "source": [
    " ### N-Gram TF/IDF"
   ]
  },
  {
   "cell_type": "code",
   "execution_count": 17,
   "metadata": {},
   "outputs": [
    {
     "output_type": "execute_result",
     "data": {
      "text/plain": "   al qaeda  allows settler  allows settler homes  anti piracy  audit finds  \\\n0       0.0             0.0                   0.0          0.0          0.0   \n1       0.0             0.0                   0.0          0.0          0.0   \n2       0.0             0.0                   0.0          0.0          0.0   \n3       0.0             0.0                   0.0          0.0          0.0   \n4       0.0             0.0                   0.0          0.0          0.0   \n\n   bird flu  blast kills  blow icann  blow icann suit  bomber kills  ...  \\\n0       0.0          0.0         0.0              0.0           0.0  ...   \n1       0.0          0.0         0.0              0.0           0.0  ...   \n2       0.0          0.0         0.0              0.0           0.0  ...   \n3       0.0          0.0         0.0              0.0           0.0  ...   \n4       0.0          0.0         0.0              0.0           0.0  ...   \n\n   title hopes  tokyo stocks  verisign dealt  verisign dealt legal  \\\n0          0.0           0.0             0.0                   0.0   \n1          0.0           0.0             0.0                   0.0   \n2          0.0           0.0             0.0                   0.0   \n3          0.0           0.0             0.0                   0.0   \n4          0.0           0.0             0.0                   0.0   \n\n   version windows  west bank  win china  win china open  windows xp  \\\n0              0.0        0.0        0.0             0.0         0.0   \n1              0.0        0.0        0.0             0.0         0.0   \n2              0.0        0.0        0.0             0.0         0.0   \n3              0.0        0.0        0.0             0.0         0.0   \n4              0.0        0.0        0.0             0.0         0.0   \n\n   world cup  \n0        0.0  \n1        0.0  \n2        0.0  \n3        0.0  \n4        0.0  \n\n[5 rows x 85 columns]",
      "text/html": "<div>\n<style scoped>\n    .dataframe tbody tr th:only-of-type {\n        vertical-align: middle;\n    }\n\n    .dataframe tbody tr th {\n        vertical-align: top;\n    }\n\n    .dataframe thead th {\n        text-align: right;\n    }\n</style>\n<table border=\"1\" class=\"dataframe\">\n  <thead>\n    <tr style=\"text-align: right;\">\n      <th></th>\n      <th>al qaeda</th>\n      <th>allows settler</th>\n      <th>allows settler homes</th>\n      <th>anti piracy</th>\n      <th>audit finds</th>\n      <th>bird flu</th>\n      <th>blast kills</th>\n      <th>blow icann</th>\n      <th>blow icann suit</th>\n      <th>bomber kills</th>\n      <th>...</th>\n      <th>title hopes</th>\n      <th>tokyo stocks</th>\n      <th>verisign dealt</th>\n      <th>verisign dealt legal</th>\n      <th>version windows</th>\n      <th>west bank</th>\n      <th>win china</th>\n      <th>win china open</th>\n      <th>windows xp</th>\n      <th>world cup</th>\n    </tr>\n  </thead>\n  <tbody>\n    <tr>\n      <th>0</th>\n      <td>0.0</td>\n      <td>0.0</td>\n      <td>0.0</td>\n      <td>0.0</td>\n      <td>0.0</td>\n      <td>0.0</td>\n      <td>0.0</td>\n      <td>0.0</td>\n      <td>0.0</td>\n      <td>0.0</td>\n      <td>...</td>\n      <td>0.0</td>\n      <td>0.0</td>\n      <td>0.0</td>\n      <td>0.0</td>\n      <td>0.0</td>\n      <td>0.0</td>\n      <td>0.0</td>\n      <td>0.0</td>\n      <td>0.0</td>\n      <td>0.0</td>\n    </tr>\n    <tr>\n      <th>1</th>\n      <td>0.0</td>\n      <td>0.0</td>\n      <td>0.0</td>\n      <td>0.0</td>\n      <td>0.0</td>\n      <td>0.0</td>\n      <td>0.0</td>\n      <td>0.0</td>\n      <td>0.0</td>\n      <td>0.0</td>\n      <td>...</td>\n      <td>0.0</td>\n      <td>0.0</td>\n      <td>0.0</td>\n      <td>0.0</td>\n      <td>0.0</td>\n      <td>0.0</td>\n      <td>0.0</td>\n      <td>0.0</td>\n      <td>0.0</td>\n      <td>0.0</td>\n    </tr>\n    <tr>\n      <th>2</th>\n      <td>0.0</td>\n      <td>0.0</td>\n      <td>0.0</td>\n      <td>0.0</td>\n      <td>0.0</td>\n      <td>0.0</td>\n      <td>0.0</td>\n      <td>0.0</td>\n      <td>0.0</td>\n      <td>0.0</td>\n      <td>...</td>\n      <td>0.0</td>\n      <td>0.0</td>\n      <td>0.0</td>\n      <td>0.0</td>\n      <td>0.0</td>\n      <td>0.0</td>\n      <td>0.0</td>\n      <td>0.0</td>\n      <td>0.0</td>\n      <td>0.0</td>\n    </tr>\n    <tr>\n      <th>3</th>\n      <td>0.0</td>\n      <td>0.0</td>\n      <td>0.0</td>\n      <td>0.0</td>\n      <td>0.0</td>\n      <td>0.0</td>\n      <td>0.0</td>\n      <td>0.0</td>\n      <td>0.0</td>\n      <td>0.0</td>\n      <td>...</td>\n      <td>0.0</td>\n      <td>0.0</td>\n      <td>0.0</td>\n      <td>0.0</td>\n      <td>0.0</td>\n      <td>0.0</td>\n      <td>0.0</td>\n      <td>0.0</td>\n      <td>0.0</td>\n      <td>0.0</td>\n    </tr>\n    <tr>\n      <th>4</th>\n      <td>0.0</td>\n      <td>0.0</td>\n      <td>0.0</td>\n      <td>0.0</td>\n      <td>0.0</td>\n      <td>0.0</td>\n      <td>0.0</td>\n      <td>0.0</td>\n      <td>0.0</td>\n      <td>0.0</td>\n      <td>...</td>\n      <td>0.0</td>\n      <td>0.0</td>\n      <td>0.0</td>\n      <td>0.0</td>\n      <td>0.0</td>\n      <td>0.0</td>\n      <td>0.0</td>\n      <td>0.0</td>\n      <td>0.0</td>\n      <td>0.0</td>\n    </tr>\n  </tbody>\n</table>\n<p>5 rows × 85 columns</p>\n</div>"
     },
     "metadata": {},
     "execution_count": 17
    }
   ],
   "source": [
    "tfidf_vect = TfidfVectorizer(sublinear_tf = True, min_df = 2, lowercase = True, \n",
    "                             strip_accents = 'ascii', ngram_range = (2, 3), \n",
    "                             stop_words = 'english', use_idf = True, token_pattern=r'(?u)\\b[A-Za-z]{2,}\\b')\n",
    "tfidf_ngram = tfidf_vect.fit_transform(train_data_df.headline_cleaned).toarray()\n",
    "\n",
    "# get all unique words in the corpus\n",
    "vocab = tfidf_vect.get_feature_names()\n",
    "\n",
    "tfidf_ngram = pd.DataFrame(np.round(tfidf_ngram, 2), columns = vocab)\n",
    "tfidf_ngram.head()\n",
    ""
   ]
  },
  {
   "cell_type": "markdown",
   "metadata": {},
   "source": [
    " ### Character TF/IDF"
   ]
  },
  {
   "cell_type": "code",
   "execution_count": 18,
   "metadata": {},
   "outputs": [
    {
     "output_type": "execute_result",
     "data": {
      "text/plain": "     #   #3    '   '0   'a   'd   'g   't    -   -   ...   zl  zli   zo  zon  \\\n0  0.0  0.0  0.0  0.0  0.0  0.0  0.0  0.0  0.0  0.0  ...  0.0  0.0  0.0  0.0   \n1  0.0  0.0  0.0  0.0  0.0  0.0  0.0  0.0  0.0  0.0  ...  0.0  0.0  0.0  0.0   \n2  0.0  0.0  0.0  0.0  0.0  0.0  0.0  0.0  0.0  0.0  ...  0.0  0.0  0.0  0.0   \n3  0.0  0.0  0.0  0.0  0.0  0.0  0.0  0.0  0.0  0.0  ...  0.0  0.0  0.0  0.0   \n4  0.0  0.0  0.0  0.0  0.0  0.0  0.0  0.0  0.0  0.0  ...  0.0  0.0  0.0  0.0   \n\n    zu  zue  zur   zy   zz  zzl  \n0  0.0  0.0  0.0  0.0  0.0  0.0  \n1  0.0  0.0  0.0  0.0  0.0  0.0  \n2  0.0  0.0  0.0  0.0  0.0  0.0  \n3  0.0  0.0  0.0  0.0  0.0  0.0  \n4  0.0  0.0  0.0  0.0  0.0  0.0  \n\n[5 rows x 3996 columns]",
      "text/html": "<div>\n<style scoped>\n    .dataframe tbody tr th:only-of-type {\n        vertical-align: middle;\n    }\n\n    .dataframe tbody tr th {\n        vertical-align: top;\n    }\n\n    .dataframe thead th {\n        text-align: right;\n    }\n</style>\n<table border=\"1\" class=\"dataframe\">\n  <thead>\n    <tr style=\"text-align: right;\">\n      <th></th>\n      <th>#</th>\n      <th>#3</th>\n      <th>'</th>\n      <th>'0</th>\n      <th>'a</th>\n      <th>'d</th>\n      <th>'g</th>\n      <th>'t</th>\n      <th>-</th>\n      <th>-</th>\n      <th>...</th>\n      <th>zl</th>\n      <th>zli</th>\n      <th>zo</th>\n      <th>zon</th>\n      <th>zu</th>\n      <th>zue</th>\n      <th>zur</th>\n      <th>zy</th>\n      <th>zz</th>\n      <th>zzl</th>\n    </tr>\n  </thead>\n  <tbody>\n    <tr>\n      <th>0</th>\n      <td>0.0</td>\n      <td>0.0</td>\n      <td>0.0</td>\n      <td>0.0</td>\n      <td>0.0</td>\n      <td>0.0</td>\n      <td>0.0</td>\n      <td>0.0</td>\n      <td>0.0</td>\n      <td>0.0</td>\n      <td>...</td>\n      <td>0.0</td>\n      <td>0.0</td>\n      <td>0.0</td>\n      <td>0.0</td>\n      <td>0.0</td>\n      <td>0.0</td>\n      <td>0.0</td>\n      <td>0.0</td>\n      <td>0.0</td>\n      <td>0.0</td>\n    </tr>\n    <tr>\n      <th>1</th>\n      <td>0.0</td>\n      <td>0.0</td>\n      <td>0.0</td>\n      <td>0.0</td>\n      <td>0.0</td>\n      <td>0.0</td>\n      <td>0.0</td>\n      <td>0.0</td>\n      <td>0.0</td>\n      <td>0.0</td>\n      <td>...</td>\n      <td>0.0</td>\n      <td>0.0</td>\n      <td>0.0</td>\n      <td>0.0</td>\n      <td>0.0</td>\n      <td>0.0</td>\n      <td>0.0</td>\n      <td>0.0</td>\n      <td>0.0</td>\n      <td>0.0</td>\n    </tr>\n    <tr>\n      <th>2</th>\n      <td>0.0</td>\n      <td>0.0</td>\n      <td>0.0</td>\n      <td>0.0</td>\n      <td>0.0</td>\n      <td>0.0</td>\n      <td>0.0</td>\n      <td>0.0</td>\n      <td>0.0</td>\n      <td>0.0</td>\n      <td>...</td>\n      <td>0.0</td>\n      <td>0.0</td>\n      <td>0.0</td>\n      <td>0.0</td>\n      <td>0.0</td>\n      <td>0.0</td>\n      <td>0.0</td>\n      <td>0.0</td>\n      <td>0.0</td>\n      <td>0.0</td>\n    </tr>\n    <tr>\n      <th>3</th>\n      <td>0.0</td>\n      <td>0.0</td>\n      <td>0.0</td>\n      <td>0.0</td>\n      <td>0.0</td>\n      <td>0.0</td>\n      <td>0.0</td>\n      <td>0.0</td>\n      <td>0.0</td>\n      <td>0.0</td>\n      <td>...</td>\n      <td>0.0</td>\n      <td>0.0</td>\n      <td>0.0</td>\n      <td>0.0</td>\n      <td>0.0</td>\n      <td>0.0</td>\n      <td>0.0</td>\n      <td>0.0</td>\n      <td>0.0</td>\n      <td>0.0</td>\n    </tr>\n    <tr>\n      <th>4</th>\n      <td>0.0</td>\n      <td>0.0</td>\n      <td>0.0</td>\n      <td>0.0</td>\n      <td>0.0</td>\n      <td>0.0</td>\n      <td>0.0</td>\n      <td>0.0</td>\n      <td>0.0</td>\n      <td>0.0</td>\n      <td>...</td>\n      <td>0.0</td>\n      <td>0.0</td>\n      <td>0.0</td>\n      <td>0.0</td>\n      <td>0.0</td>\n      <td>0.0</td>\n      <td>0.0</td>\n      <td>0.0</td>\n      <td>0.0</td>\n      <td>0.0</td>\n    </tr>\n  </tbody>\n</table>\n<p>5 rows × 3996 columns</p>\n</div>"
     },
     "metadata": {},
     "execution_count": 18
    }
   ],
   "source": [
    "tfidf_vect = TfidfVectorizer(analyzer = 'char', sublinear_tf = True, min_df = 2, \n",
    "                             lowercase = True, strip_accents = 'ascii', ngram_range = (2, 3), \n",
    "                             stop_words = 'english', use_idf = True, token_pattern=r'\\w{1,}')\n",
    "tfidf_char = tfidf_vect.fit_transform(train_data_df.headline_cleaned).toarray()\n",
    "\n",
    "# get all unique words in the corpus\n",
    "vocab = tfidf_vect.get_feature_names()\n",
    "\n",
    "tfidf_char = pd.DataFrame(np.round(tfidf_char, 2), columns = vocab)\n",
    "tfidf_char.head()\n",
    ""
   ]
  },
  {
   "cell_type": "code",
   "execution_count": 14,
   "metadata": {},
   "outputs": [
    {
     "data": {
      "image/png": "[encoded data removed]",
      "text/plain": [
       "<Figure size 432x288 with 1 Axes>"
      ]
     },
     "metadata": {
      "needs_background": "light"
     },
     "output_type": "display_data"
    }
   ],
   "source": [
    "word_count_dict = {}\n",
    "for word in vocab:\n",
    "    word_count_dict[word] = int(sum(tfidf_char.loc[:, word]))\n",
    "\n",
    "counter = Counter(word_count_dict)\n",
    "\n",
    "freq_df = pandas.DataFrame.from_records(counter.most_common(50),\n",
    "                                        columns=['Top 50 words', 'Frequency'])\n",
    "freq_df.plot(kind='bar', x='Top 50 words');\n"
   ]
  },
  {
   "cell_type": "markdown",
   "metadata": {},
   "source": [
    " ## Word Embedding\n",
    " Build the Corpus Vocabulary"
   ]
  },
  {
   "cell_type": "code",
   "execution_count": 19,
   "metadata": {},
   "outputs": [
    {
     "output_type": "stream",
     "name": "stdout",
     "text": "Vocabulary Size: 3170\nVocabulary Sample: [('to', 1), ('in', 2), ('for', 3), ('39', 4), ('on', 5), ('of', 6), ('the', 7), ('s', 8), ('a', 9), ('up', 10), ('b', 11), ('at', 12), ('new', 13), ('with', 14), ('us', 15), ('and', 16), ('says', 17), ('as', 18), ('by', 19), ('is', 20), ('oil', 21), ('1', 22), ('more', 23), ('china', 24), ('u', 25), ('no', 26), ('profit', 27), ('stocks', 28), ('iraq', 29), ('back', 30), ('win', 31), ('out', 32), ('report', 33), ('from', 34), ('ibm', 35), ('microsoft', 36), ('over', 37), ('open', 38), ('will', 39), ('it', 40), ('deal', 41), ('be', 42), ('sales', 43), ('bid', 44), ('world', 45), ('bush', 46), ('plans', 47), ('not', 48), ('off', 49), ('2', 50), ('quot', 51), ('cup', 52), ('prices', 53), ('india', 54), ('gets', 55), ('calls', 56), ('un', 57), ('kills', 58), ('buy', 59), ('can', 60), ('t', 61), ('get', 62), ('oracle', 63), ('000', 64), ('against', 65), ('fall', 66), ('iraqi', 67), ('plan', 68), ('are', 69), ('3', 70), ('may', 71), ('season', 72), ('after', 73), ('game', 74), ('cuts', 75), ('talks', 76), ('first', 77), ('wins', 78), ('top', 79), ('has', 80), ('software', 81), ('billion', 82), ('coach', 83), ('company', 84), ('google', 85), ('service', 86), ('space', 87), ('leads', 88), ('4', 89), ('two', 90), ('urges', 91), ('police', 92), ('iran', 93), ('next', 94), ('fight', 95), ('technology', 96), ('wireless', 97), ('now', 98), ('its', 99), ('end', 100)]\n"
    }
   ],
   "source": [
    "tokenizer = text.Tokenizer()\n",
    "tokenizer.fit_on_texts(train_data_df.headline_cleaned)\n",
    "word2id = tokenizer.word_index\n",
    "\n",
    "# build vocabulary of unique words\n",
    "word2id['PAD'] = 0\n",
    "id2word = {v:k for k, v in word2id.items()}\n",
    "wids = [[word2id[w] for w in text.text_to_word_sequence(doc)] for doc in train_data_df.headline_cleaned]\n",
    "\n",
    "vocab_size = len(word2id)\n",
    "embed_size = 100\n",
    "window_size = 2 # context window size\n",
    "\n",
    "print('Vocabulary Size:', vocab_size)\n",
    "print('Vocabulary Sample:', list(word2id.items())[:100])\n",
    ""
   ]
  },
  {
   "cell_type": "code",
   "execution_count": 16,
   "metadata": {},
   "outputs": [
    {
     "name": "stdout",
     "output_type": "stream",
     "text": [
      "Context (X): ['nhl', 'on', 'maybe', 'for'] -> Target (Y): ice\n",
      "Context (X): ['on', 'ice', 'for', 'whole'] -> Target (Y): maybe\n",
      "Context (X): ['ice', 'maybe', 'whole', '2004'] -> Target (Y): for\n",
      "Context (X): ['maybe', 'for', '2004', '05'] -> Target (Y): whole\n",
      "Context (X): ['for', 'whole', '05', 'season'] -> Target (Y): 2004\n",
      "Context (X): ['rowers', 'to', 'punished', 'for'] -> Target (Y): be\n",
      "Context (X): ['to', 'be', 'for', 'criticism'] -> Target (Y): punished\n",
      "Context (X): ['be', 'punished', 'criticism', 'of'] -> Target (Y): for\n",
      "Context (X): ['punished', 'for', 'of', 'teammate'] -> Target (Y): criticism\n",
      "Context (X): ['cassini', 'snapshots', 'moon', 'titan'] -> Target (Y): murky\n",
      "Context (X): ['english', 'players', 'media', 'after'] -> Target (Y): snub\n",
      "Context (X): ['players', 'snub', 'after', 'victory'] -> Target (Y): media\n",
      "Context (X): ['explosives', 'were', 'after', 'iraq'] -> Target (Y): looted\n",
      "Context (X): ['were', 'looted', 'iraq', 'invasion'] -> Target (Y): after\n",
      "Context (X): ['mine', 'fire', '19', 'in'] -> Target (Y): kills\n",
      "Context (X): ['fire', 'kills', 'in', 'turkey'] -> Target (Y): 19\n",
      "Context (X): ['12', 'nepalese', 'executed', 'in'] -> Target (Y): reportedly\n",
      "Context (X): ['nepalese', 'reportedly', 'in', 'iraq'] -> Target (Y): executed\n",
      "Context (X): ['cendant', 'to', 'gullivers', 'for'] -> Target (Y): buy\n",
      "Context (X): ['to', 'buy', 'for', '1'] -> Target (Y): gullivers\n",
      "Context (X): ['buy', 'gullivers', '1', '1b'] -> Target (Y): for\n"
     ]
    }
   ],
   "source": [
    "# Build a CBOW (context, target) generator\n",
    "def generate_context_word_pairs(corpus, window_size, vocab_size):\n",
    "    context_length = window_size*2\n",
    "    for words in corpus:\n",
    "        sentence_length = len(words)\n",
    "        for index, word in enumerate(words):\n",
    "            context_words = []\n",
    "            label_word   = []            \n",
    "            start = index - window_size\n",
    "            end = index + window_size + 1\n",
    "            \n",
    "            context_words.append([words[i] \n",
    "                                 for i in range(start, end) \n",
    "                                 if 0 <= i < sentence_length \n",
    "                                 and i != index])\n",
    "            label_word.append(word)\n",
    "\n",
    "            x = sequence.pad_sequences(context_words, maxlen=context_length)\n",
    "            y = np_utils.to_categorical(label_word, vocab_size)\n",
    "            yield (x, y)\n",
    "\n",
    "# Test this out for some samples\n",
    "i = 0\n",
    "for x, y in generate_context_word_pairs(corpus=wids, window_size=window_size, vocab_size=vocab_size):\n",
    "    if 0 not in x[0]:\n",
    "        print('Context (X):', [id2word[w] for w in x[0]], '-> Target (Y):', id2word[numpy.argwhere(y[0])[0][0]])\n",
    "    \n",
    "        if i == 20:\n",
    "            break\n",
    "        i += 1\n"
   ]
  },
  {
   "cell_type": "code",
   "execution_count": 20,
   "metadata": {},
   "outputs": [],
   "source": [
    "# %% [markdown]\n",
    "# ## Using gensim to build Word2Vec"
   ]
  },
  {
   "cell_type": "code",
   "execution_count": 24,
   "metadata": {},
   "outputs": [],
   "source": [
    "from gensim.models import word2vec\n",
    "\n",
    "# tokenize sentences in corpus\n",
    "wpt = nltk.WordPunctTokenizer()\n",
    "tokenized_corpus = [wpt.tokenize(document) for document in train_data_df]\n",
    "\n",
    "# Set values for various parameters\n",
    "feature_size = 100    # Word vector dimensionality  \n",
    "window_context = 30          # Context window size                                                                                    \n",
    "min_word_count = 1   # Minimum word count                        \n",
    "sample = 1e-3   # Downsample setting for frequent words\n",
    "\n",
    "w2v_model = word2vec.Word2Vec(tokenized_corpus, size=feature_size, \n",
    "                          window=window_context, min_count=min_word_count,\n",
    "                          sample=sample, iter=50)\n",
    "\n",
    "# view similar words based on gensim's model\n",
    "#similar_words = {search_term: [item[0] for item in w2v_model.wv.most_similar([search_term], topn=5)]\n",
    "#                  for search_term in ['god', 'jesus', 'noah', 'egypt', #'john', 'gospel', 'moses','famine']}\n",
    "#similar_words"
   ]
  },
  {
   "cell_type": "code",
   "execution_count": null,
   "metadata": {},
   "outputs": [],
   "source": [
    "# %% [markdown]\n",
    "# ## Visualize word embedding"
   ]
  },
  {
   "cell_type": "code",
   "execution_count": null,
   "metadata": {},
   "outputs": [],
   "source": []
  }
 ],
 "metadata": {
  "file_extension": ".py",
  "kernelspec": {
   "display_name": "Python 3.7.6 64-bit (conda)",
   "language": "python",
   "name": "python37664bitconda1496054765594920a6930834e868f3ab"
  },
  "language_info": {
   "codemirror_mode": {
    "name": "ipython",
    "version": 3
   },
   "file_extension": ".py",
   "mimetype": "text/x-python",
   "name": "python",
   "nbconvert_exporter": "python",
   "pygments_lexer": "ipython3",
   "version": "3.7.6-final"
  },
  "mimetype": "text/x-python",
  "name": "python",
  "npconvert_exporter": "python",
  "pygments_lexer": "ipython3",
  "version": 3
 },
 "nbformat": 4,
 "nbformat_minor": 2
}